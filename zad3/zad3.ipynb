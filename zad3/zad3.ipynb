{
 "cells": [
  {
   "cell_type": "markdown",
   "metadata": {},
   "source": [
    "## To jest srednia moich ocen w pierwszym semestrze 2018/2019  \n",
    "uzyje tego programu aby sprawnie to wyliczyc "
   ]
  },
  {
   "cell_type": "code",
   "execution_count": 8,
   "metadata": {},
   "outputs": [],
   "source": [
    "metodologia_badan= 5 \n",
    "biologiczne_mechanizmy= 4\n",
    "technologie_informatyczne= 5\n",
    "psychologia_ogolna= 4\n",
    "filozofia= 5\n",
    "anatomia= 4 \n",
    "komunikacja_interpersonalna= 5\n",
    "angielski= 4 \n",
    "logika= 5"
   ]
  },
  {
   "cell_type": "code",
   "execution_count": 10,
   "metadata": {},
   "outputs": [],
   "source": [
    "suma = metodologia_badan + biologiczne_mechanizmy + technologie_informatyczne + psychologia_ogolna + filozofia + anatomia + komunikacja_interpersonalna + angielski+ logika"
   ]
  },
  {
   "cell_type": "code",
   "execution_count": 12,
   "metadata": {},
   "outputs": [],
   "source": [
    "srednia= suma / 9 "
   ]
  },
  {
   "cell_type": "code",
   "execution_count": 14,
   "metadata": {},
   "outputs": [
    {
     "name": "stdout",
     "output_type": "stream",
     "text": [
      "moja średnia w pierwszym semestrze to 4.555555555555555\n"
     ]
    }
   ],
   "source": [
    "print(\"moja średnia w pierwszym semestrze to \" +str(srednia))"
   ]
  },
  {
   "cell_type": "code",
   "execution_count": null,
   "metadata": {},
   "outputs": [],
   "source": []
  }
 ],
 "metadata": {
  "kernelspec": {
   "display_name": "Python 3",
   "language": "python",
   "name": "python3"
  },
  "language_info": {
   "codemirror_mode": {
    "name": "ipython",
    "version": 3
   },
   "file_extension": ".py",
   "mimetype": "text/x-python",
   "name": "python",
   "nbconvert_exporter": "python",
   "pygments_lexer": "ipython3",
   "version": "3.7.0"
  }
 },
 "nbformat": 4,
 "nbformat_minor": 2
}
