{
 "cells": [
  {
   "cell_type": "code",
   "execution_count": 1,
   "metadata": {},
   "outputs": [],
   "source": [
    "a= \"Czy lubisz hawajska pizze?\" \n",
    "b= \"Czy zawsze liczysz kalorie spozyte w posilku?\" \n",
    "c= \"Czy nie mozesz obejsc sie bez deseru?\" \n",
    "d= \"Czy oberwujesz na ig jakies fit blogerki?\"\n",
    "e= \"Czy zdarza Ci sie pojsc spac glodnym?\" \n",
    "punkty = []"
   ]
  },
  {
   "cell_type": "code",
   "execution_count": 2,
   "metadata": {},
   "outputs": [],
   "source": [
    "def test(zywnosc): \n",
    "    lista_pyt = [a, b, c, d, e] \n",
    "    \n",
    "def zadaj_pytanie (a):\n",
    "    \n",
    "    print(a)\n",
    "    a1 = input(\"1 oznacza zupełnie się nie zgadzam, a 5 oznacza całkowicie się zgadzam:\")\n",
    "    a1 = int(a1) \n",
    "    if a1<1 or a1>5:\n",
    "        print(\"Wpisałaś/eś złą liczbę! Zrestartuj i zacznij od początku!\")\n",
    "    else:\n",
    "        return a1\n",
    "\n"
   ]
  },
  {
   "cell_type": "code",
   "execution_count": null,
   "metadata": {},
   "outputs": [
    {
     "name": "stdout",
     "output_type": "stream",
     "text": [
      "Czy lubisz hawajska pizze?\n"
     ]
    }
   ],
   "source": [
    "p = zadaj_pytanie(a)\n",
    "punkty.append(p)\n",
    "p = zadaj_pytanie(b)\n",
    "punkty.append(p)\n",
    "p = zadaj_pytanie(c)\n",
    "punkty.append(p)\n",
    "p = zadaj_pytanie(d)\n",
    "punkty.append(p)\n",
    "p = zadaj_pytanie(e)\n",
    "punkty.append(p)\n",
    "wynik= sum(punkty)\n",
    "wynik= int(wynik)\n",
    "\n",
    "if wynik > 5 and wynik < 10: \n",
    "     print(\"Twój wynik to\", wynik, \".\", \"Zastanow sie nad swoja dieta.\") \n",
    "elif wynik == 5:\n",
    "    print(\"Twój wynik to\", wynik, \".\", \"Czas zmienic nawyki zywieniowe.\")\n",
    "elif wynik >= 10 and wynik < 15:\n",
    "    print(\"Twój wynik to\", wynik, \".\", \"Nie jest zle,ale postaraj sie zwracac wieksza uwage na to co jesz.\")\n",
    "elif wynik >= 15 and wynik < 20:\n",
    "    print(\"Twój wynik to\", wynik, \".\", \"Pewnie nie obserwujesz zadnej fit blogerki i stad te braki. To da sie zmienic!\")\n",
    "elif wynik >=20 and wynik < 25:\n",
    "    print(\"Twój wynik to\", wynik, \".\", \"Jestes bliki idealu jesli chodzi o diete ktora stosujesz.\")\n",
    "elif wynik == 25:\n",
    "    print(\"Twój wynik to\", wynik, \".\", \"Brawo! Pizza hawajska to dobry wybor.\")   \n",
    "    \n",
    "if wynik > 0:\n",
    "    punkty.pop(0)\n",
    "    punkty.pop(0)\n",
    "    punkty.pop(0)\n",
    "    punkty.pop(0)\n",
    "    punkty.pop(0)\n",
    "    \n",
    "\n",
    "    "
   ]
  },
  {
   "cell_type": "code",
   "execution_count": null,
   "metadata": {},
   "outputs": [],
   "source": []
  }
 ],
 "metadata": {
  "kernelspec": {
   "display_name": "Python 3",
   "language": "python",
   "name": "python3"
  },
  "language_info": {
   "codemirror_mode": {
    "name": "ipython",
    "version": 3
   },
   "file_extension": ".py",
   "mimetype": "text/x-python",
   "name": "python",
   "nbconvert_exporter": "python",
   "pygments_lexer": "ipython3",
   "version": "3.7.0"
  }
 },
 "nbformat": 4,
 "nbformat_minor": 2
}
